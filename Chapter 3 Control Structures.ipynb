{
 "cells": [
  {
   "cell_type": "markdown",
   "metadata": {},
   "source": [
    "##  <center>Chapter 3: Control Structures and Functions</center>"
   ]
  },
  {
   "cell_type": "markdown",
   "metadata": {},
   "source": [
    "After reading this chapter, readers will be able to:\n",
    "\n",
    "- Use iterative structures in Python\n",
    "- Write conditional statements in Python\n",
    "- Write nested loops\n",
    "- Write simple Functions\n",
    "    "
   ]
  },
  {
   "cell_type": "markdown",
   "metadata": {},
   "source": [
    "### 3.1 Control Structures \n",
    "***\"To be or not to be, that is the question...\"***: In any programming language, a control structure is a block of instructions that analyzes variables and chooses a direction in which to go based on given conditions. Control structures are decision making process in programming that determines how computer will respond when given certain conditions. Control structures control \"flow\" of computing and decision making. These control structures include if-else statements, for loops, while loop, and nested versions of these. We will understand each of these with help of various examples. \n",
    "\n",
    "### 3.1.1 If-else statements\n",
    "Let us understand if-else statements with an example of car dealership. A car dealer looks at the inventory of one of their cars, say Toyota Corolla. To ensure that vehicles are always in stock, he looks at number of Corolla in stock. If number of cars is less than 20, he has to call the manufacturer and place order for next dispatch.\n",
    "\n",
    "We can express the senario in basic programming terminology as:\n",
    "\n",
    "- **Precondition**: Thee are 16 of vehicles in stock\n",
    "\n",
    "- **Feeding this information through Control Structures**:\n",
    "\n",
    ">Is number less than 20? If yes, place an order with manufacturer\n",
    "\n",
    "> Is number greater than 20? If yes, no action is required\n",
    "\n",
    "- **Postcondition**: Order is placed\n",
    "\n"
   ]
  },
  {
   "cell_type": "markdown",
   "metadata": {},
   "source": [
    "\n",
    "We use **If-else** statements to make such selection in Python. Selection statements allow programmers to ask questions and then various actions can be performed based on the outcome. Let us write the code for our Toyota Corolla example. Make a note of colon and intendations (space before print statements). Python used intendations to structure its programs."
   ]
  },
  {
   "cell_type": "code",
   "execution_count": 1,
   "metadata": {},
   "outputs": [
    {
     "name": "stdout",
     "output_type": "stream",
     "text": [
      "Inventory low!! Place an order with manufacturer!\n"
     ]
    }
   ],
   "source": [
    "num_vehicles = 16   # Pre-condition\n",
    "if num_vehicles < 20: # Notice colon at the end of if statement.\n",
    "    print(\"Inventory low!! Place an order with manufacturer!\")  # Press tab once to intend the print statement\n",
    "else:   #Notice that if and else are at same intendation level\n",
    "    print(\"No action required. Inventory sufficient\")"
   ]
  },
  {
   "cell_type": "markdown",
   "metadata": {},
   "source": [
    "We can also nest multiple ***if-else*** . For example, a grader wants to use conditional statements to compute grade of the students. Rather than doing it manually, he decides to write the Pyhton code. Table below shows the grading slab. Let us help the grader by writing Python codes.\n",
    "\n",
    " \n",
    "|Score | Grades| \n",
    "|------- |---------|\n",
    "|>90| A  | \n",
    "|81-90|B|\n",
    "|71-80|B-|\n",
    "|61-70|C|\n",
    "|51-60|C-|\n",
    "|41-50|D|\n",
    "|<41|F|\n",
    "\n",
    "A student named Alicia secured 75 in test. Let us write code to tell her grade. We will use **elif** (else+if) to test multiple conditions. "
   ]
  },
  {
   "cell_type": "code",
   "execution_count": 2,
   "metadata": {},
   "outputs": [
    {
     "name": "stdout",
     "output_type": "stream",
     "text": [
      "Grade is B-\n"
     ]
    }
   ],
   "source": [
    "score = 75\n",
    "if score > 90:\n",
    "    print(\"Grade is A\")\n",
    "elif score >81 and score <90:\n",
    "    print(\"Grade is B\")\n",
    "elif score >71 and score <80:\n",
    "    print(\"Grade is B-\")\n",
    "elif score >61 and score <=70:\n",
    "    print(\"Grade is C\")\n",
    "elif score >51 and score <=60:\n",
    "    print(\"Grade is C-\")\n",
    "elif score >41 and score <=50:\n",
    "    print(\"Grade is D\")\n",
    "elif score <40:\n",
    "    print(\"Grade is F\")\n",
    "else:\n",
    "    print(\"student absent\")"
   ]
  },
  {
   "cell_type": "markdown",
   "metadata": {},
   "source": [
    "### 3.1.2 For loops\n",
    "\n",
    "Programming is of no use to us if we cannot expedite the tasks that we need to repeat. For example, grader would be very upset if he has to write codes again and again to assign grades to entire class. For example, grader wishes that he enters the ***list*** of score of 10 students and python should return a ***list*** of grades. \n",
    "\n",
    "To accomplish this in Python, we will use ***for*** statements. ***for*** statements in Python iterates over the items of any sequence (be it list or string), in the order they appear (recall from chapter 2 that lists are ordered objects). \n",
    "\n",
    "Let us say we have grades of 10 students  (arranged in ascending ID of their enrollment numbers) as:\n",
    "\n",
    "***scores = [65.0, 98.5, 46.7, 78.5, 83.5, 56.5, 92.5, 78, 63, 88]***\n",
    "\n",
    "To iterate access all **elements in scores**, we will write python script as follows:\n",
    "\n"
   ]
  },
  {
   "cell_type": "code",
   "execution_count": 3,
   "metadata": {},
   "outputs": [],
   "source": [
    "scores = [65.0, 98.5, 46.7, 78.5, 83.5, 56.5, 92.5, 78, 63, 88]\n",
    "for score in scores:  # score holds value being accessed\n",
    "    print(score)"
   ]
  },
  {
   "cell_type": "markdown",
   "metadata": {},
   "source": [
    "We can also print the index of element being accessed during the iteration using ***enumerate*** command:\n",
    "\n",
    "\n"
   ]
  },
  {
   "cell_type": "code",
   "execution_count": 4,
   "metadata": {},
   "outputs": [],
   "source": [
    "for i,score in enumerate(scores):  #variable i holds value of index; score holds the value at index i\n",
    "    print([i,score]) # First element has index 0 because Python starts indexing from zero"
   ]
  },
  {
   "cell_type": "markdown",
   "metadata": {},
   "source": [
    "If we do not want to iterate over a list or sequence of numbers, we can also iterate over a ***range***. Let us say, we want to print \"Hello! World\" 5 times. We can do it using for loop as follows:"
   ]
  },
  {
   "cell_type": "code",
   "execution_count": 5,
   "metadata": {},
   "outputs": [],
   "source": [
    "for i in range(5):\n",
    "    print([i, \"Hello! World\"])"
   ]
  },
  {
   "cell_type": "markdown",
   "metadata": {},
   "source": [
    "### 3.1.3 Combining for statements and if-else statements\n",
    " \n",
    "Now that we understand the basics of for and if-else conditions, let us combine these two with our grading example and obtain the grades of 10 students without doing manual labor. For loop will iteratively access *score in scores* for all elements in list. Then, we will evaluate grades using ***if-else*** statements.\n"
   ]
  },
  {
   "cell_type": "markdown",
   "metadata": {},
   "source": [
    "scores = [65.0, 98.5, 46.7, 78.5, 83.5, 56.5, 92.5, 78, 63, 88]\n",
    "\n",
    "grades = []\n",
    "for score in scores:\n",
    "    if score > 90:\n",
    "        grades.append(\"Grade is A\")\n",
    "    elif score >81 and score <90:\n",
    "        grades.append(\"Grade is B\")\n",
    "    elif score >71 and score <80:\n",
    "        grades.append(\"Grade is B-\")\n",
    "    elif score >61 and score <=70:\n",
    "        grades.append(\"Grade is C\")\n",
    "    elif score >51 and score <=60:\n",
    "        grades.append(\"Grade is C-\")\n",
    "    elif score >41 and score <=50:\n",
    "        grades.append(\"Grade is D\")\n",
    "    elif score <40:\n",
    "        grades.append(\"Grade is F\")\n",
    "    else:\n",
    "        grades.append(\"student absent\")\n",
    "\n",
    "\n",
    "print(grades)"
   ]
  },
  {
   "cell_type": "markdown",
   "metadata": {},
   "source": [
    "### 3.1.4 Continue statements and Pass statements"
   ]
  },
  {
   "cell_type": "markdown",
   "metadata": {},
   "source": [
    "Grader wants to skip all those who score grade D or less. \n",
    "\n",
    "Grader gets super-excited when somebody gets an A. So, he wants to ***break*** out of the code and see who is the first person to get an A grade (obsession,huh!). To accomplish this, we use ***break*** statements. It will terminate the for loop pre-maturely as soon as first condition of A grade is met. "
   ]
  },
  {
   "cell_type": "code",
   "execution_count": 3,
   "metadata": {
    "scrolled": true
   },
   "outputs": [
    {
     "name": "stdout",
     "output_type": "stream",
     "text": [
      "[[0, 'Grade is C'], [1, 'Grade is A']]\n"
     ]
    }
   ],
   "source": [
    "scores = [65.0, 98.5, 46.7, 78.5, 83.5, 56.5, 92.5, 78, 63, 88]\n",
    "\n",
    "grades = []\n",
    "for i,score in enumerate(scores):\n",
    "    if score > 90:\n",
    "        grades.append([i,\"Grade is A\"])\n",
    "        break                   # Notice the break statement here\n",
    "    elif score >81 and score <90:\n",
    "        grades.append([i,\"Grade is B\"])\n",
    "    elif score >71 and score <80:\n",
    "        grades.append([i,\"Grade is B-\"])\n",
    "    elif score >61 and score <=70:\n",
    "        grades.append([i,\"Grade is C\"])\n",
    "    elif score >51 and score <=60:\n",
    "        grades.append([i,\"Grade is C-\"])\n",
    "    elif score >41 and score <=50:\n",
    "        grades.append([i,\"Grade is D\"])\n",
    "    elif score <40:\n",
    "        grades.append([i,\"Grade is F\"])\n",
    "    else:\n",
    "        grades.append([i,\"student absent\"])\n",
    "\n",
    "\n",
    "print(grades)"
   ]
  },
  {
   "cell_type": "markdown",
   "metadata": {},
   "source": [
    "### 3.1.4 Continue statement\n",
    "\n",
    "\n",
    "While ***break*** statement terminates and jumps out of the loop, continue statement goes to the beginning of code (without evaluating succeeding statements) and continues execution. For example, if grader does not want to print D grades, he can use ***continue*** statements. note that as soon as the condition in ***continue*** is met,code after this is not executed. "
   ]
  },
  {
   "cell_type": "code",
   "execution_count": 4,
   "metadata": {},
   "outputs": [
    {
     "name": "stdout",
     "output_type": "stream",
     "text": [
      "[[0, 'Grade is C'], [1, 'Grade is A'], [3, 'Grade is B-'], [4, 'Grade is B'], [5, 'Grade is C-'], [6, 'Grade is A'], [7, 'Grade is B-'], [8, 'Grade is C'], [9, 'Grade is B']]\n"
     ]
    }
   ],
   "source": [
    "scores = [65.0, 98.5, 46.7, 78.5, 83.5, 56.5, 92.5, 78, 63, 88]\n",
    "\n",
    "grades = []\n",
    "for i,score in enumerate(scores):\n",
    "    if score > 90:\n",
    "        grades.append([i,\"Grade is A\"])                    \n",
    "    elif score >81 and score <=90:\n",
    "        grades.append([i,\"Grade is B\"])\n",
    "    elif score >71 and score <=80:\n",
    "        grades.append([i,\"Grade is B-\"])\n",
    "    elif score >61 and score <=70:\n",
    "        grades.append([i,\"Grade is C\"])\n",
    "    elif score >51 and score <=60:\n",
    "        grades.append([i,\"Grade is C-\"])\n",
    "    elif score >41 and score <=50:\n",
    "        continue # Notice the continue statement here.A\n",
    "        grades.append(\"skipped grading\")\n",
    "    elif score <40:\n",
    "        grades.append([i,\"Grade is F\"])\n",
    "    else:\n",
    "        grades.append([i,\"student absent\"])\n",
    "\n",
    "\n",
    "print(grades)"
   ]
  },
  {
   "cell_type": "markdown",
   "metadata": {},
   "source": [
    "### 3.1.5 Pass statement\n",
    "\n",
    "Another way to skip grading is using pass statement. While continue statement continues with the next iteration of the loop when condition is met, pass statement does nothing (no pun intended!). These are used when no action is required. The difference between pass and continue is that pass still evaluates all the statements succeeding it. Carefully note the difference in outputs of 4.1.4 and 4.1.5. 'Skipped grading' was not printed in case of continue statement. (Why?)"
   ]
  },
  {
   "cell_type": "code",
   "execution_count": 5,
   "metadata": {},
   "outputs": [
    {
     "name": "stdout",
     "output_type": "stream",
     "text": [
      "[[0, 'Grade is C'], [1, 'Grade is A'], 'skipped grading', [3, 'Grade is B-'], [4, 'Grade is B'], [5, 'Grade is C-'], [6, 'Grade is A'], [7, 'Grade is B-'], [8, 'Grade is C'], [9, 'Grade is B']]\n"
     ]
    }
   ],
   "source": [
    "scores = [65.0, 98.5, 46.7, 78.5, 83.5, 56.5, 92.5, 78, 63, 88]\n",
    "\n",
    "grades = []\n",
    "for i,score in enumerate(scores):\n",
    "    if score > 90:\n",
    "        grades.append([i,\"Grade is A\"])                    \n",
    "    elif score >81 and score <=90:\n",
    "        grades.append([i,\"Grade is B\"])\n",
    "    elif score >71 and score <=80:\n",
    "        grades.append([i,\"Grade is B-\"])\n",
    "    elif score >61 and score <=70:\n",
    "        grades.append([i,\"Grade is C\"])\n",
    "    elif score >51 and score <=60:\n",
    "        grades.append([i,\"Grade is C-\"])\n",
    "    elif score >41 and score <=50:\n",
    "        pass # Notice the continue statement here.A\n",
    "        grades.append(\"skipped grading\")\n",
    "    elif score <40:\n",
    "        grades.append([i,\"Grade is F\"])\n",
    "    else:\n",
    "        grades.append([i,\"student absent\"])\n",
    "\n",
    "\n",
    "print(grades)"
   ]
  },
  {
   "cell_type": "markdown",
   "metadata": {},
   "source": [
    "### 3.1.6 While statement\n",
    "\n",
    "Another structure that is very popular in most of the programming languages (including Python!) is the while statement. The while statement is used for repeated execution as long as statement is true. Let us understand this with help of an example. Our anonymous grader wants to give some extra points to a guy who scored 65 so that his grade can be increased from C to B-. He adds one point each time till score is greater than 71. He decides to use while loop to do this in the Python. Let us see how he can achieve this:"
   ]
  },
  {
   "cell_type": "code",
   "execution_count": 6,
   "metadata": {},
   "outputs": [
    {
     "name": "stdout",
     "output_type": "stream",
     "text": [
      "72.0\n"
     ]
    }
   ],
   "source": [
    "score  =  65.0 #Initialization\n",
    "\n",
    "while score <= 71:\n",
    "    score  = score +1 #Notice the intendation between while and score\n",
    "print(score)"
   ]
  },
  {
   "cell_type": "markdown",
   "metadata": {},
   "source": [
    "## 3.2 Functions in Python\n",
    "\n",
    "\n",
    "By now you might have realised that how repetive and boring it gets to keep copying same block of code to assign grade to each student separately. How can we make our codes more organized, and reusable? How can be get rid of verbosity of cut, copy, paste? ***Functions*** in Python will help us answer these questions. \n",
    "\n",
    "Another question: Have we used any function before without knowing? Answer is yes! We used print() function so many times throughout this book. print() is an example of in-built function. \n",
    "\n",
    "Can we define our own functions? Absolutely yes: That is what we will learn in this section."
   ]
  },
  {
   "cell_type": "markdown",
   "metadata": {},
   "source": [
    "## 3.2.1 Defining functions"
   ]
  },
  {
   "cell_type": "markdown",
   "metadata": {},
   "source": [
    "Functions block begin with the keyword ***def*** followed by ***functions_name*** followed by ***parenthesis*** in which arguments or inputs are specified. In grading example, let us name our function grading with inputs or arguments as score. Hence, function will look like:\n",
    "\n"
   ]
  },
  {
   "cell_type": "code",
   "execution_count": 7,
   "metadata": {},
   "outputs": [],
   "source": [
    "def grading(score):\n",
    "    print(\"we will calculate grades\")"
   ]
  },
  {
   "cell_type": "markdown",
   "metadata": {},
   "source": [
    "Now, to call function, simply use the word grading and specify score in parenthesis:"
   ]
  },
  {
   "cell_type": "code",
   "execution_count": 8,
   "metadata": {},
   "outputs": [
    {
     "name": "stdout",
     "output_type": "stream",
     "text": [
      "we will calculate grades\n"
     ]
    }
   ],
   "source": [
    "grading(65)"
   ]
  },
  {
   "cell_type": "markdown",
   "metadata": {},
   "source": [
    "Let us make our function more meaningful by adding actual grade definitions. Adding comments while defining functions always help. In our grading example, we want that user must specify scores as list of floats or integers. \n",
    "\n",
    "**Very very important**: \n",
    "- Notice that all the variable names that we use to write the functions are local in scope. For instance, variable student_grades is recognized only within the function and has no relevance outside the function.\n",
    "- Python works by intendation! All the statements within function are at one level of indentation. Recall that you can intend the line by pressing tab key before it. \n",
    "- Last print statement is outside the for loop but within the function. The way to identify it is indentation. print(student_grades) is at same level of indentation as for loop, implying that it is outside the for loop. However, print(student_grades) is at first intendation level with respect to **def**\n",
    "- By now, you may have noticed that use of spacebar is prohibited while declaring variables. Same rule applies to the function names. \n",
    "- return command returns the output of function and is usually specified at the end of function definiton. \n",
    "\n",
    "By running the ***def*** block, we have just defined the function. No output is expected as we have not executed the function yet. "
   ]
  },
  {
   "cell_type": "code",
   "execution_count": 9,
   "metadata": {},
   "outputs": [],
   "source": [
    "# Function to compute grades. \n",
    "# User must specify scores as list\n",
    "def grading(scores):\n",
    "    student_grades = []\n",
    "    for i,score in enumerate(scores):\n",
    "        if score > 90:\n",
    "            student_grades.append([i,\"Grade is A\"])                    \n",
    "        elif score >81 and score <=90:\n",
    "            student_grades.append([i,\"Grade is B\"])\n",
    "        elif score >71 and score <=80:\n",
    "            student_grades.append([i,\"Grade is B-\"])\n",
    "        elif score >61 and score <=70:\n",
    "            student_grades.append([i,\"Grade is C\"])\n",
    "        elif score >51 and score <=60:\n",
    "            student_grades.append([i,\"Grade is C-\"])\n",
    "        elif score >41 and score <=50:\n",
    "            student_grades.append([i,\"Grade is D\"])\n",
    "        elif score <40:\n",
    "            student_grades.append([i,\"Grade is F\"])\n",
    "        else:\n",
    "            student_grades.append([i,\"student absent\"])\n",
    "    return student_grades"
   ]
  },
  {
   "cell_type": "markdown",
   "metadata": {},
   "source": [
    "## 3.2.2 Executing functions\n",
    "\n",
    "Let us create a variable named scores_highschool and pass it as an argument to our grading function."
   ]
  },
  {
   "cell_type": "code",
   "execution_count": 10,
   "metadata": {},
   "outputs": [
    {
     "name": "stdout",
     "output_type": "stream",
     "text": [
      "[[0, 'Grade is C'], [1, 'Grade is A'], [2, 'Grade is D'], [3, 'Grade is B-'], [4, 'Grade is B'], [5, 'Grade is C-'], [6, 'Grade is A'], [7, 'Grade is B-'], [8, 'Grade is C'], [9, 'Grade is B']]\n"
     ]
    }
   ],
   "source": [
    "scores_highschool = [65.0, 98.5, 46.7, 78.5, 83.5, 56.5, 92.5, 78, 63, 88]\n",
    "#Executing the function: Grades are expected. \n",
    "a = grading(scores_highschool)\n",
    "print(a)"
   ]
  },
  {
   "cell_type": "markdown",
   "metadata": {},
   "source": [
    "Now, we can reuse grading function as many times as we want without copying, pasting, again and again!"
   ]
  },
  {
   "cell_type": "markdown",
   "metadata": {},
   "source": [
    "## 3.3 Conclusions and next steps\n",
    "\n",
    "Congratulations for making this far into basics of Python. Now that we have enough toy examples (thanks to anonymous dealer and anonymous grader!), it is right time to use this knowledge to perform analysis on real data. In next chapter, we will discuss basics of Dataframe, Pandas, and plotting figures in Python.  "
   ]
  },
  {
   "cell_type": "markdown",
   "metadata": {},
   "source": [
    "## Exercise"
   ]
  },
  {
   "cell_type": "markdown",
   "metadata": {},
   "source": [
    "Consider the data of three Largest cities (by population). These cities are Shanghai, Beijing, and Delhi. Population of these cities are 24.2 Million, 21.5 Million, and 16.78 Million, respectively. Write a function to create dictionary with following information: Name of the city (as string) , population (as float), and location (as tuple). Your function should return the dictionary and text \"Megapolis found!\" if population of city is greater than 20 Million. If population is less than 20 Million, return the text \"Not a Megapolis!\" \n",
    "\n",
    "Input arguments of your function should be: city_name (string), population [in Million] (as float), latitude (as float), longitude (as float). \n",
    "\n",
    "Output argument should be list containing following two elements :\n",
    "- a dictionary with following keys: name, population, location;\n",
    "-  \n",
    "\n",
    "\n",
    "|CITY   | LATITUDE| LONGITUDE  |\n",
    "|------- |---------|------------|\n",
    "|Shanghai| 31.23  |   121.47         | \n",
    "|Beijing|39.904|116.40|\n",
    "|Delhi|28.7|77.1"
   ]
  },
  {
   "cell_type": "markdown",
   "metadata": {},
   "source": [
    "## Solution"
   ]
  },
  {
   "cell_type": "markdown",
   "metadata": {},
   "source": [
    "#### Let us define the function"
   ]
  },
  {
   "cell_type": "code",
   "execution_count": 11,
   "metadata": {},
   "outputs": [],
   "source": [
    "def city_dict(name, population, lat, lon):    #Defining function\n",
    "    req_dict = {}                            #Creating empty dictionary\n",
    "    req_dict['name'] = name\n",
    "    req_dict['population'] = population\n",
    "    req_dict['location'] = (lat,lon)\n",
    "    \n",
    "    if population > 20:\n",
    "        a = (\"Megapolis found!\")\n",
    "    else:\n",
    "        a = (\"Not a Megapolis\")\n",
    "    return [req_dict,a]           #Note that function can return output as both primitive and non-primitive data structure!\n",
    "    "
   ]
  },
  {
   "cell_type": "markdown",
   "metadata": {},
   "source": [
    "#### Let us run the function"
   ]
  },
  {
   "cell_type": "code",
   "execution_count": 12,
   "metadata": {},
   "outputs": [],
   "source": [
    "shanghai = city_dict(\"Shanghai\",  population = 24.2, lat = 31.23, lon = 121.47 )"
   ]
  },
  {
   "cell_type": "markdown",
   "metadata": {},
   "source": [
    "#### Let us check what the function returned"
   ]
  },
  {
   "cell_type": "code",
   "execution_count": 13,
   "metadata": {},
   "outputs": [
    {
     "name": "stdout",
     "output_type": "stream",
     "text": [
      "[{'name': 'Shanghai', 'population': 24.2, 'location': (31.23, 121.47)}, 'Megapolis found!']\n"
     ]
    }
   ],
   "source": [
    "print(shanghai)"
   ]
  },
  {
   "cell_type": "markdown",
   "metadata": {},
   "source": [
    "Now, You can produce the outputs for Beijing and Delhi in similar fashion!"
   ]
  }
 ],
 "metadata": {
  "kernelspec": {
   "display_name": "tutorials",
   "language": "python",
   "name": "tutorials"
  },
  "language_info": {
   "codemirror_mode": {
    "name": "ipython",
    "version": 3
   },
   "file_extension": ".py",
   "mimetype": "text/x-python",
   "name": "python",
   "nbconvert_exporter": "python",
   "pygments_lexer": "ipython3",
   "version": "3.7.0"
  }
 },
 "nbformat": 4,
 "nbformat_minor": 2
}
