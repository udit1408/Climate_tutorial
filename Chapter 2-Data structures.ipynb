{
 "cells": [
  {
   "cell_type": "markdown",
   "metadata": {},
   "source": [
    "##  <center>Chapter 2: Data structures in Python</center>"
   ]
  },
  {
   "cell_type": "markdown",
   "metadata": {},
   "source": [
    "### After reading this chapter, readers will be able to:\n",
    "\n",
    "1. Create and manipulate lists, dictionaries, tuples and sets\n",
    "\n",
    "2. Understand differences between different types of data structures"
   ]
  },
  {
   "cell_type": "markdown",
   "metadata": {},
   "source": [
    "### 2.1 Type of data structures\n",
    "\n",
    "Data structures are a way of storing and organizing data so that they can be accessed and worked with in an efficient manner. In this tutorial, you'll learn about the various Python data structures and see how they are implemented. \n",
    "\n",
    "Data structures into Python can be broadly categorized into two broad categories:\n",
    "\n",
    "   1. Primary structures\n",
    "   2. Non-primitive structures\n",
    "\n",
    "We will be showing you the use of these structures in a few examples."
   ]
  },
  {
   "cell_type": "markdown",
   "metadata": {},
   "source": [
    "### 2.2 Primary data structures"
   ]
  },
  {
   "cell_type": "markdown",
   "metadata": {},
   "source": [
    "These are the most primitive or the basic data structures. They are the building blocks for data manipulation and contain pure, simple values of data. Python has four primitive variable types:\n",
    "\n",
    "    1.Integers: Numeric data; whole numbers from -infinity to +infinity. \n",
    "    2.Float:Numbers with decimal numbers such as 3.14, 6.53\n",
    "    3.Strings: Collection of alphabets,characters, or words such as \"Toyota\", \"Hyundai\", \"a\", \"yo\". \n",
    "    4.Boolean: True or False\n",
    "\n",
    "#### 2.2.1 Integers\n",
    "\n",
    "Operations that  we can do on integers include add, substract, multiply, divide, calculate remainder,etc. Let us create a variable ***x*** and assign an integer value of 4 to it. Let us create another variable **y** and assign a value of 7 to it. We will perform addition, substraction, multiplication, and remainder calculations using these two variables. \n",
    "\n",
    "Note: Starting a line with hashtag (\\#) will tell python to disregard what comes after it. This is useful to describe what a certain line of code is doing and can help you stay organized in case you need to go back and fix something after."
   ]
  },
  {
   "cell_type": "code",
   "execution_count": 1,
   "metadata": {},
   "outputs": [],
   "source": [
    "# Comment: Declare variables  x and y and assign them values of 3 and 7 respectively.\n",
    "x = 3\n",
    "y = 7"
   ]
  },
  {
   "cell_type": "code",
   "execution_count": 2,
   "metadata": {},
   "outputs": [
    {
     "name": "stdout",
     "output_type": "stream",
     "text": [
      "10\n"
     ]
    }
   ],
   "source": [
    "# Add x and y. as name suggests, print command prints the output.\n",
    "print(x+y)"
   ]
  },
  {
   "cell_type": "code",
   "execution_count": 3,
   "metadata": {},
   "outputs": [
    {
     "name": "stdout",
     "output_type": "stream",
     "text": [
      "-4\n"
     ]
    }
   ],
   "source": [
    "# substract y from x.\n",
    "print(x-y)"
   ]
  },
  {
   "cell_type": "code",
   "execution_count": 4,
   "metadata": {},
   "outputs": [
    {
     "name": "stdout",
     "output_type": "stream",
     "text": [
      "3\n"
     ]
    }
   ],
   "source": [
    "# print the remainder of x/y\n",
    "print(x%y)"
   ]
  },
  {
   "cell_type": "markdown",
   "metadata": {},
   "source": [
    "#### 2.2.2 Floats\n",
    "\n",
    "Floats can be used for decimal numbers. Float stands for floating point number. We will assign values of 3.3 and 7.5 to ***x*** and ***y*** respectively. Note that previous values get overwritten when we assign new values to the same variable."
   ]
  },
  {
   "cell_type": "code",
   "execution_count": 5,
   "metadata": {},
   "outputs": [],
   "source": [
    "# Comment: Declare variables  x and y and assign them values of 3.3 and 7.5 respectively.\n",
    "x = 3.3\n",
    "y = 7.5"
   ]
  },
  {
   "cell_type": "code",
   "execution_count": 6,
   "metadata": {},
   "outputs": [
    {
     "name": "stdout",
     "output_type": "stream",
     "text": [
      "10.8\n"
     ]
    }
   ],
   "source": [
    "# Add x and y\n",
    "print(x+y)"
   ]
  },
  {
   "cell_type": "code",
   "execution_count": 7,
   "metadata": {},
   "outputs": [
    {
     "name": "stdout",
     "output_type": "stream",
     "text": [
      "-4.2\n"
     ]
    }
   ],
   "source": [
    "# substract y from x.\n",
    "print(x-y)"
   ]
  },
  {
   "cell_type": "code",
   "execution_count": 8,
   "metadata": {},
   "outputs": [
    {
     "name": "stdout",
     "output_type": "stream",
     "text": [
      "3.3\n"
     ]
    }
   ],
   "source": [
    "# print the remainder of x/y\n",
    "print(x%y)"
   ]
  },
  {
   "cell_type": "markdown",
   "metadata": {},
   "source": [
    "#### 2.2.3 Strings\n",
    "\n",
    "Strings are collections of alphabets, words or other characters. We will assign values of car make and car model to ***x*** and ***y*** respectively. Note that string is enclosed within \"\" or ''"
   ]
  },
  {
   "cell_type": "code",
   "execution_count": 9,
   "metadata": {},
   "outputs": [],
   "source": [
    "x = \"Toyota\"\n",
    "y = \"camry\""
   ]
  },
  {
   "cell_type": "code",
   "execution_count": 10,
   "metadata": {},
   "outputs": [
    {
     "name": "stdout",
     "output_type": "stream",
     "text": [
      "Toyotacamry\n"
     ]
    }
   ],
   "source": [
    "#Adding two strings\n",
    "print(x+y)"
   ]
  },
  {
   "cell_type": "code",
   "execution_count": 11,
   "metadata": {},
   "outputs": [
    {
     "name": "stdout",
     "output_type": "stream",
     "text": [
      "Camry\n"
     ]
    }
   ],
   "source": [
    "#Capitalize the string. Use command str.capitalize()\n",
    "print(str.capitalize(y))"
   ]
  },
  {
   "cell_type": "code",
   "execution_count": 12,
   "metadata": {},
   "outputs": [
    {
     "name": "stdout",
     "output_type": "stream",
     "text": [
      "11\n"
     ]
    }
   ],
   "source": [
    "#Compute length of string. Use command len() to compute length\n",
    "print(len(x+y))"
   ]
  },
  {
   "cell_type": "markdown",
   "metadata": {},
   "source": [
    "#### 2.2.4 Boolean\n",
    "\n",
    "Boleans take the values of True and False. Let us reassign the value of 3 and 4 to x and y respectively and see if they are equal. Can you guess the result: has to be false!!"
   ]
  },
  {
   "cell_type": "code",
   "execution_count": 13,
   "metadata": {},
   "outputs": [
    {
     "name": "stdout",
     "output_type": "stream",
     "text": [
      "False\n",
      "True\n"
     ]
    }
   ],
   "source": [
    "x = 3\n",
    "y = 4\n",
    "print(x==y)\n",
    "print(x < 4)"
   ]
  },
  {
   "cell_type": "markdown",
   "metadata": {},
   "source": [
    "**Note**: In most programming languages, **=** assigns the value whereas *==* compares the two values."
   ]
  },
  {
   "cell_type": "markdown",
   "metadata": {},
   "source": [
    "### 2.3 Non-primitive Data Structures"
   ]
  },
  {
   "cell_type": "markdown",
   "metadata": {},
   "source": [
    "Non-primitive data types are not defined by the programming language, but are instead created by the programmer. Examples of non-primitive data structures include:\n",
    "\n",
    "    1. List\n",
    "    2. Dictionaries\n",
    "    3. Tuples"
   ]
  },
  {
   "cell_type": "markdown",
   "metadata": {},
   "source": [
    "#### 2.3.1 List\n",
    "\n",
    "Lists in Python are used to store collection of heterogeneous items. You can change the elements of list making them mutable. You can recognize lists by their square brackets [  and  ]. For example, x = [] creates an empty list."
   ]
  },
  {
   "cell_type": "code",
   "execution_count": 14,
   "metadata": {},
   "outputs": [
    {
     "name": "stdout",
     "output_type": "stream",
     "text": [
      "<class 'list'>\n"
     ]
    }
   ],
   "source": [
    "x = []\n",
    "print(type(x)) # Prints what is the type of x"
   ]
  },
  {
   "cell_type": "markdown",
   "metadata": {},
   "source": [
    "Let us create a list named **car** in which we save car make, car model, and year of manufacturing. Note that car make and car models are strings whereas year of manufacturing is integer. Lists are quite powerful in saving such heterogenous data types. \n"
   ]
  },
  {
   "cell_type": "code",
   "execution_count": 15,
   "metadata": {},
   "outputs": [
    {
     "name": "stdout",
     "output_type": "stream",
     "text": [
      "['Toyota', 'Camry', 2018]\n"
     ]
    }
   ],
   "source": [
    "car = ['Toyota', 'Camry', 2018]\n",
    "print(car)"
   ]
  },
  {
   "cell_type": "markdown",
   "metadata": {},
   "source": [
    "We can also add variables to the list. Let us create three separate variables, namely, car make, car model, and year of manufacturing and add these to list."
   ]
  },
  {
   "cell_type": "code",
   "execution_count": 16,
   "metadata": {},
   "outputs": [
    {
     "name": "stdout",
     "output_type": "stream",
     "text": [
      "['Toyota', 'Camry', 2018]\n"
     ]
    }
   ],
   "source": [
    "make = \"Toyota\"\n",
    "model = \"Camry\"\n",
    "year = 2018\n",
    "\n",
    "car_2 = [make, model, year]\n",
    "print(car_2)"
   ]
  },
  {
   "cell_type": "markdown",
   "metadata": {},
   "source": [
    "##### Indexing lists"
   ]
  },
  {
   "cell_type": "markdown",
   "metadata": {},
   "source": [
    "Lists are ordered sets of objects. This means that you can access elements of list by their index. Python starts counting from zero. Hence, if you have to access first element of list ***car_2***, we have to type ***car_2[0]***"
   ]
  },
  {
   "cell_type": "code",
   "execution_count": 17,
   "metadata": {},
   "outputs": [
    {
     "name": "stdout",
     "output_type": "stream",
     "text": [
      "Toyota\n"
     ]
    }
   ],
   "source": [
    "print(car_2[0])"
   ]
  },
  {
   "cell_type": "markdown",
   "metadata": {},
   "source": [
    "Similarly, if you have to access second element of list ***car_2***, you can type ***car_2[1]***"
   ]
  },
  {
   "cell_type": "code",
   "execution_count": 18,
   "metadata": {},
   "outputs": [
    {
     "name": "stdout",
     "output_type": "stream",
     "text": [
      "Camry\n"
     ]
    }
   ],
   "source": [
    "print(car_2[1])"
   ]
  },
  {
   "cell_type": "markdown",
   "metadata": {},
   "source": [
    "If you have to access last element of list ***car_2***, you can type ***car_2[-1]***. [-1] refers to the last element in list."
   ]
  },
  {
   "cell_type": "code",
   "execution_count": 19,
   "metadata": {},
   "outputs": [
    {
     "name": "stdout",
     "output_type": "stream",
     "text": [
      "2018\n"
     ]
    }
   ],
   "source": [
    "print(car_2[-1])"
   ]
  },
  {
   "cell_type": "markdown",
   "metadata": {},
   "source": [
    "##### Adding elements to the list: append function"
   ]
  },
  {
   "cell_type": "markdown",
   "metadata": {},
   "source": [
    "Oo! We forgot to add the price to our car_2 list. Without recreating the list, we have to add an element to the list. To do this, we use ***append*** command. \n"
   ]
  },
  {
   "cell_type": "code",
   "execution_count": 20,
   "metadata": {},
   "outputs": [
    {
     "name": "stdout",
     "output_type": "stream",
     "text": [
      "['Toyota', 'Camry', 2018, '25000']\n"
     ]
    }
   ],
   "source": [
    "car_2.append(\"25000\")\n",
    "print(car_2)"
   ]
  },
  {
   "cell_type": "markdown",
   "metadata": {},
   "source": [
    "##### Removing elements from list: pop, del and remove function.\n",
    "\n",
    "There are three ways to remove elements from the list. \n",
    "\n",
    "1. pop: **list_name.pop(index)** removes the element and displays what is being removed.\n",
    "2. del: **del list_name[index]** removes the element without displaying what is being removed.\n",
    "3. remove: **list_name.remove(element_name)**: removes the first item from thr list whose value is "
   ]
  },
  {
   "cell_type": "code",
   "execution_count": 21,
   "metadata": {},
   "outputs": [
    {
     "name": "stdout",
     "output_type": "stream",
     "text": [
      "['Toyota', 'Camry', 2018, '25000']\n",
      "['Toyota', 2018, '25000']\n",
      "['Toyota', 2018]\n",
      "[2018]\n"
     ]
    }
   ],
   "source": [
    "# Prints intact list\n",
    "print(car_2)\n",
    "\n",
    "#removes element at index 1\n",
    "car_2.pop(1)\n",
    "print(car_2)\n",
    "\n",
    "#same as pop. removes item at last position. (index = -1)\n",
    "del car_2[-1]\n",
    "print(car_2)\n",
    "\n",
    "\n",
    "#removes first occurence of word \"Toyota\"\n",
    "car_2.remove(\"Toyota\")\n",
    "print(car_2)\n"
   ]
  },
  {
   "cell_type": "markdown",
   "metadata": {},
   "source": [
    "#### 2.3.2 Dictionaries\n",
    "\n",
    "The list car_2  = ['Toyota', 'Camry', 2018, '25000'] is a nice way to store heterogenous data but not necessarily the best way. For example, it is impossible for users of the list to understand what each element refers to. Either you need to add lot of comments to the code or assign name to each elements. This is where Python ***dictionaries*** come to our help. Elements in the dictionary have following characteristis:\n",
    "\n",
    "    1. Every entry has a name (or key) and a value.\n",
    "    2. Ordering does not matter. Hence, indexing will not work\n",
    "    3. Elements are accessed using key values\n",
    "\n",
    "Let us create a dictionary containing brand name, model, year and price of our car. Recall that we used square brackets [] to declare the list. However, to create dictionaries, we use curly bracket {}. Let us create an empty dictionary and name it car_dict"
   ]
  },
  {
   "cell_type": "code",
   "execution_count": 22,
   "metadata": {},
   "outputs": [],
   "source": [
    "car_dict = {}"
   ]
  },
  {
   "cell_type": "markdown",
   "metadata": {},
   "source": [
    "Now, we will add the required keys and respective values to our dictionary."
   ]
  },
  {
   "cell_type": "code",
   "execution_count": 23,
   "metadata": {},
   "outputs": [
    {
     "name": "stdout",
     "output_type": "stream",
     "text": [
      "{'brand': 'Toyota', 'model': 'Camry', 'year': 2018, 'price in $': 28000}\n"
     ]
    }
   ],
   "source": [
    "car_dict['brand'] = 'Toyota'\n",
    "car_dict['model'] = 'Camry'\n",
    "car_dict['year'] = 2018\n",
    "car_dict['price in $'] = 28000\n",
    "\n",
    "print(car_dict)"
   ]
  },
  {
   "cell_type": "markdown",
   "metadata": {},
   "source": [
    "#### Modifying values in dictionary\n",
    "\n",
    "To modify values in dictionary, simply reassign the value to key. Let us say, dealership reduced the price of the car by $2000. To modify the price of our car, we can simply write:\n"
   ]
  },
  {
   "cell_type": "code",
   "execution_count": 24,
   "metadata": {},
   "outputs": [
    {
     "name": "stdout",
     "output_type": "stream",
     "text": [
      "{'brand': 'Toyota', 'model': 'Camry', 'year': 2018, 'price in $': 26000}\n"
     ]
    }
   ],
   "source": [
    "car_dict['price in $'] = 28000-2000\n",
    "print(car_dict)"
   ]
  },
  {
   "cell_type": "markdown",
   "metadata": {},
   "source": [
    "#### Deleting keys and corresponding values\n",
    "We will use the pop function again to pop out the keys. For example, dealership is no longer interested in keeping year of car model in their record. So, they want to remove ***year*** key from the dictionary.\n"
   ]
  },
  {
   "cell_type": "code",
   "execution_count": 25,
   "metadata": {},
   "outputs": [
    {
     "name": "stdout",
     "output_type": "stream",
     "text": [
      "{'brand': 'Toyota', 'model': 'Camry', 'price in $': 26000}\n"
     ]
    }
   ],
   "source": [
    "car_dict.pop('year')\n",
    "print(car_dict)"
   ]
  },
  {
   "cell_type": "markdown",
   "metadata": {},
   "source": [
    "#### Using keys and lists simultaneously\n",
    "\n",
    "Now, our anonymous car dealer got so excited with lists and dictionaries that he wishes to use these two to keep stock of their inventory. He is not sure how to add information about different models into same variable. Specifically, he wants to add make, model, price, year of manufacturing, cars left in inventory for two cars: Toyota Corolla and Toyota Camry. \n",
    "\n",
    "\n",
    "He has created two dictionaries, named corolla and camry separately: "
   ]
  },
  {
   "cell_type": "code",
   "execution_count": 26,
   "metadata": {},
   "outputs": [],
   "source": [
    "corolla ={}\n",
    "corolla['make'] = 'Toyota'\n",
    "corolla['model'] = 'Corolla'\n",
    "corolla['year'] = 2018\n",
    "corolla['price'] = 19000\n",
    "corolla['cars_left'] = 43\n",
    "\n",
    "camry ={}\n",
    "camry['make'] = 'Toyota'\n",
    "camry['model'] = 'Camry'\n",
    "camry['year'] = 2018\n",
    "camry['price'] = 26000\n",
    "camry['cars_left'] = 19"
   ]
  },
  {
   "cell_type": "markdown",
   "metadata": {},
   "source": [
    "Now he wants to add these two dictionaries to the same list so that he can glance at all the information all at once. We will use append function that we learnt with the list. Let us create an empty list named ***dealership*** and add information about ***corolla*** and ***camry*** to the list:"
   ]
  },
  {
   "cell_type": "code",
   "execution_count": 27,
   "metadata": {},
   "outputs": [
    {
     "name": "stdout",
     "output_type": "stream",
     "text": [
      "[{'make': 'Toyota', 'model': 'Corolla', 'year': 2018, 'price': 19000, 'cars_left': 43}, {'make': 'Toyota', 'model': 'Camry', 'year': 2018, 'price': 26000, 'cars_left': 19}]\n"
     ]
    }
   ],
   "source": [
    "dealership = []\n",
    "\n",
    "dealership.append(corolla)\n",
    "dealership.append(camry)\n",
    "\n",
    "print(dealership)"
   ]
  },
  {
   "cell_type": "markdown",
   "metadata": {},
   "source": [
    "Recall that we can access elements of lists by their indices. Here, corolla is stored at index 0 and camry is stored at index 1. Hence, we can access the information about ***Corolla*** using:\n"
   ]
  },
  {
   "cell_type": "code",
   "execution_count": 28,
   "metadata": {},
   "outputs": [
    {
     "name": "stdout",
     "output_type": "stream",
     "text": [
      "{'make': 'Toyota', 'model': 'Corolla', 'year': 2018, 'price': 19000, 'cars_left': 43}\n"
     ]
    }
   ],
   "source": [
    "print(dealership[0])"
   ]
  },
  {
   "cell_type": "code",
   "execution_count": 29,
   "metadata": {},
   "outputs": [
    {
     "name": "stdout",
     "output_type": "stream",
     "text": [
      "Corolla\n"
     ]
    }
   ],
   "source": [
    "print(dealership[0]['model'])"
   ]
  },
  {
   "cell_type": "markdown",
   "metadata": {},
   "source": [
    "#### 2.3.3 Tuples"
   ]
  },
  {
   "cell_type": "markdown",
   "metadata": {},
   "source": [
    "Tuples are very similar to lists with one difference. Unlike lists, you cannot change the values of tuples once these are defined (i.e., tuples are immutable). For example, you want to create a tuple with whole numbers from 0 to 5. Notice that tuples are identified by first parenthesis. "
   ]
  },
  {
   "cell_type": "code",
   "execution_count": 30,
   "metadata": {},
   "outputs": [],
   "source": [
    "tuple1 = (0,1,2,3,4,5)"
   ]
  },
  {
   "cell_type": "markdown",
   "metadata": {},
   "source": [
    "Tuples are also ordered object like list. Hence, you can access elements of tuple by their index."
   ]
  },
  {
   "cell_type": "code",
   "execution_count": 31,
   "metadata": {},
   "outputs": [
    {
     "name": "stdout",
     "output_type": "stream",
     "text": [
      "1\n"
     ]
    }
   ],
   "source": [
    "print(tuple1[1])"
   ]
  },
  {
   "cell_type": "markdown",
   "metadata": {},
   "source": [
    "You can also print the range of elements. That is if we are interested to print elements 2 through end from the tuple that we just created. We can use tuple_name[starting_point:] to accomplish this operation"
   ]
  },
  {
   "cell_type": "code",
   "execution_count": 32,
   "metadata": {},
   "outputs": [
    {
     "name": "stdout",
     "output_type": "stream",
     "text": [
      "(1, 2, 3, 4, 5)\n"
     ]
    }
   ],
   "source": [
    "print(tuple1[1:])"
   ]
  },
  {
   "cell_type": "markdown",
   "metadata": {},
   "source": [
    "Now, let us try to change the first value of tuple to 10. You should end up getting an error because tuples are immutable and that's what differentiates these from lists. "
   ]
  },
  {
   "cell_type": "code",
   "execution_count": 33,
   "metadata": {},
   "outputs": [
    {
     "ename": "SyntaxError",
     "evalue": "can't assign to function call (<ipython-input-33-7dde4f3c5e1c>, line 1)",
     "output_type": "error",
     "traceback": [
      "\u001b[0;36m  File \u001b[0;32m\"<ipython-input-33-7dde4f3c5e1c>\"\u001b[0;36m, line \u001b[0;32m1\u001b[0m\n\u001b[0;31m    print(tuple1[0]) = 10\u001b[0m\n\u001b[0m                         ^\u001b[0m\n\u001b[0;31mSyntaxError\u001b[0m\u001b[0;31m:\u001b[0m can't assign to function call\n"
     ]
    }
   ],
   "source": [
    "print(tuple1[0]) = 10"
   ]
  },
  {
   "cell_type": "markdown",
   "metadata": {},
   "source": [
    "You can always go back and forth between tuples and lists and convert one format to another. We are so adamant to change first element to 10 that we will first change tuple to list, update the value, and reconvert list to tuple:"
   ]
  },
  {
   "cell_type": "code",
   "execution_count": null,
   "metadata": {},
   "outputs": [],
   "source": [
    "#Convert tuple to list\n",
    "list_1 = list(tuple1)\n",
    "print(list_1)\n",
    "\n",
    "#Update first element to list\n",
    "list_1[0] = 10\n",
    "print(list_1)\n",
    "\n",
    "\n",
    "#Reconvert list back to tuple\n",
    "tuple_2 = tuple(list_1)\n",
    "print(tuple_2)"
   ]
  },
  {
   "cell_type": "markdown",
   "metadata": {},
   "source": [
    "### 2.4: Conclusions and next steps\n",
    "\n",
    "Data structures are lifelines of any programming language. Hence, it is incredibly important to make ourselves comfortable with fundamentals of various datatypes. As we move forward, you will see these data structures in action with real-world examples. In next chapter, we will get ourselves familiar with control structures (such as ***for*** loop, conditional statements, while loop, etc.)"
   ]
  },
  {
   "cell_type": "markdown",
   "metadata": {},
   "source": [
    "## Exercise"
   ]
  },
  {
   "cell_type": "markdown",
   "metadata": {},
   "source": [
    "Create three dictionaries containing name and population of three Largest cities (by population). These cities are Shanghai, Beijing, and Delhi. Population of these cities are 24.2 Million, 21.5 Million, and 16.78 Million, respectively. Also add latitude and longitude of these cities to each dictionary as tuple (Tuples are very useful in storing the data that is contextual and is not likely to change). Append these dictionaries together into a list. Name your list as three_big_ones.\n",
    "\n",
    "\n",
    "|CITY   | LATITUDE| LONGITUDE  |\n",
    "|------- |---------|------------|\n",
    "|Shanghai| 31.23  |   121.47         | \n",
    "|Beijing|39.904|116.40|\n",
    "|Delhi|28.7|77.1\n"
   ]
  },
  {
   "cell_type": "markdown",
   "metadata": {},
   "source": [
    "## Solution:\n",
    "\n",
    "(a) Let us create a a dictionary named Shanghai, and add various attributes to it in required format:"
   ]
  },
  {
   "cell_type": "code",
   "execution_count": 42,
   "metadata": {},
   "outputs": [
    {
     "name": "stdout",
     "output_type": "stream",
     "text": [
      "{'name': 'shanghai', 'population(in Million)': 24.2, 'location': (31.23, 121.47)}\n"
     ]
    }
   ],
   "source": [
    "shanghai = {}\n",
    "shanghai['name'] = 'shanghai'\n",
    "shanghai['population(in Million)'] = 24.2 \n",
    "shanghai['location'] =  (31.23, 121.47)   # Notice that () brackets represent tuple\n",
    "print(shanghai)"
   ]
  },
  {
   "cell_type": "markdown",
   "metadata": {},
   "source": [
    "(b) Similarly, create a  dictionary named Beijing:"
   ]
  },
  {
   "cell_type": "code",
   "execution_count": 44,
   "metadata": {},
   "outputs": [
    {
     "name": "stdout",
     "output_type": "stream",
     "text": [
      "{'name': 'beijing', 'population(in Million)': 21.5, 'location': (39.904, 116.4)}\n"
     ]
    }
   ],
   "source": [
    "beijing = {}\n",
    "beijing['name'] = 'beijing'\n",
    "beijing['population(in Million)'] = 21.5 \n",
    "beijing['location'] =  (39.904, 116.40)   # Notice that () brackets represent tuple\n",
    "print(beijing)"
   ]
  },
  {
   "cell_type": "markdown",
   "metadata": {},
   "source": [
    "(c) Create an empty list and append shanghai and beijing to the list"
   ]
  },
  {
   "cell_type": "code",
   "execution_count": 45,
   "metadata": {},
   "outputs": [
    {
     "name": "stdout",
     "output_type": "stream",
     "text": [
      "[{'name': 'shanghai', 'population(in Million)': 24.2, 'location': (31.23, 121.47)}, {'name': 'beijing', 'population(in Million)': 21.5, 'location': (39.904, 116.4)}]\n"
     ]
    }
   ],
   "source": [
    "three_big_ones = []\n",
    "three_big_ones.append(shanghai)\n",
    "three_big_ones.append(beijing)\n",
    "print(three_big_ones)"
   ]
  },
  {
   "cell_type": "markdown",
   "metadata": {},
   "source": [
    "(d) Create the dictionary for Delhi yourself and append it to three_big_ones"
   ]
  }
 ],
 "metadata": {
  "kernelspec": {
   "display_name": "tutorials",
   "language": "python",
   "name": "tutorials"
  },
  "language_info": {
   "codemirror_mode": {
    "name": "ipython",
    "version": 3
   },
   "file_extension": ".py",
   "mimetype": "text/x-python",
   "name": "python",
   "nbconvert_exporter": "python",
   "pygments_lexer": "ipython3",
   "version": "3.7.0"
  }
 },
 "nbformat": 4,
 "nbformat_minor": 2
}
