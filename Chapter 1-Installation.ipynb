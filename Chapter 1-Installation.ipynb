{
 "cells": [
  {
   "cell_type": "markdown",
   "metadata": {},
   "source": [
    "##  <center>Chapter 1: Installing Python and packages</center>"
   ]
  },
  {
   "cell_type": "markdown",
   "metadata": {},
   "source": [
    "After reading this chapter, readers will be able to:\n",
    "\n",
    "- Install Python via Anaconda on MacOS and Windows.\n",
    "- Launch Jupyter Notebook and Python kernel. \n",
    "- Understand the difference between modules and packages.\n",
    "4. Install Python packages.\n",
    "5. Troubleshoot package installation errors"
   ]
  },
  {
   "cell_type": "markdown",
   "metadata": {},
   "source": [
    "If you have not installed Python via anaconda, it is strongly recommended to install Python 3.6 via Anaconda: https://www.anaconda.com/download/.  Anaconda is a free and open source distribution of the Python programming language for data science and machine learning related applications. It is great tool to simplify package installation and management. We will discuss about packages in detail as we move forward. Another advantage of installing Python via Anaconda is that it installs a multi-utility Integrated Development Environment (IDE) called Jupyter Notebook that provides comprehensive facilities to to programmers for writing and running codes. \n",
    "\n",
    "### **1.1 Launching Jupyter Notebook**\n",
    "\n",
    "**a) MacOS/Linux/UNIX users** \n",
    "\n",
    "Once the software successfully installs, press Command (⌘) and Spacebar in MacOS, type Terminal and press return key. This launches the command line in MacOS. In command line, type ***jupyter notebook*** and press enter.\n",
    "\n",
    "<img title = \"hello\" src=\"terminal3.png\" width=\"500\" height = \"100\"/>\n",
    "\n",
    "This will launch the Jupyter Notebook IDE in your default web browser. Please note that although Notebook launches in web browser, it does not require active Internet connection to function. Do not close Terminal when you are working on jupyter notebook. \n",
    "\n",
    "**b) Windows users** \n",
    "\n",
    "Launch Anaconda Prompt from Start Menu. \n",
    "\n",
    "<img src=\"anaconda prompt.png\" alt=\"drawing\" width=\"500\" height = \"100\"/>\n",
    "\n",
    "In Anaconda prompt, type ***jupyter notebook*** and press enter. This will launch the Jupyter Notebook IDE in your default web browser. Please note that although Notebook launches in web browser, it does not require active Internet connection to function. Do not close the prompt when you are working on jupyter notebook.\n",
    "\n",
    "### **1.2 Launching Kernel (both MacOS and Windows)**\n",
    "To launch a Python Kernel, click ***New*** on the right side and select ***python3*** from the dropdown list (See below). This will launch the kernel where you can write and run your code. Note that Python kernel is a program that runs and introspects the user's code. \n",
    "\n",
    "<img src=\"jupyter.png\" alt=\"drawing\" width=\"1000\" height = \"200\"/>\n",
    "\n",
    "Now, we are all set to write and run the code! However, before start writing any meaningful codes, it is important to understand the pivotal role of ***Packages*** and ***modules*** in Python. \n",
    "\n",
    "### ***1.3 Packages*** and ***modules*** \n",
    "\n",
    "***Module***: In Python, ***module*** is a piece of software that has a specific functionality. For example, while  analyzing financial time series of a certain company (say stock price in last one year), you are required to compute average stock price in a given week. To do the **averaging** operation, you will require a ***module*** that has set of commands to calculate average of numbers. \n",
    "\n",
    "***Package***: On the other hand, a ***package*** is collection of ***Python modules***. A ***package*** directory (or folder) always contains a file  with extension ***\\_\\_init\\_\\_.py***. If this file is present, Python recognises this folder as a special folder. \n",
    "\n",
    "Let us go back to our Financial time-series example. In addition to performing averages, you want to calculate variance (or standard deviation),  trends, seasonality, etc. Hence, you will create a **package** that will contain various ***modules*** to compute average, trends, seasonality, etc. Figure below shows how sample ***package*** looks like. ***.py*** files are individual ***modules*** within the package. \n",
    "\n",
    "<img src=\"package.png\" alt=\"drawing\" width=\"1000\" height = \"200\"/>\n",
    "\n",
    "Fortunately, we need not write packages for most of the tasks that we want to do via Python. Since Python is an open-source language (See chapter 1), developers across the globe contribute packages to do various tasks ranging from averaging to spatial analysis. We can install these packages via Anaconda and ***import*** these into Python environment. A few packages that we will use often includes ***pandas*** for data analysis , ***numpy***: to handle arrays, and ***os***: to interact with operating system via Python. \n",
    "\n",
    "\n",
    "### **1.4 Installing Packages: requires Internet connection**\n",
    "\n",
    "**a) MacOS/Linux/UNIX users** \n",
    "\n",
    "Press Command (⌘) and Spacebar in MacOS, type Terminal and press return key. If your Terminal is already running an instance of Python, you can press  (⌘)+N to launch a new instance of terminal.  In command line, type ***conda install package_name*** and press enter. For example to install ***pandas***, type ***conda install pandas***  and press enter. \n",
    "\n",
    "<img src=\"pandas.png\" alt=\"drawing\" width=\"500\" height = \"100\"/>\n",
    "\n",
    "Follow the prompt and package will be installed. (In this case, press [Y] followed by enter)\n",
    "\n",
    "<img src=\"prompts.png\" alt=\"drawing\" width=\"500\" height = \"100\"/>\n",
    "\n",
    "**b) Windows users** \n",
    "\n",
    "Launch Anaconda Prompt from Start Menu. In Anaconda Prompt, type ***conda install package_name*** and press enter. For example to install ***pandas***, type ***conda install pandas***  and press enter. This will install the required package. You can install various packages by following the same procedure. It is noted that packages are required to be installed only once and these remain on your system until you uninstall these or uninstall Anaconda from your system. Once packages are installed, these are ready to be imported into python. \n",
    "\n",
    "\n",
    "<img src=\"prompt_panda.png\" alt=\"drawing\" width=\"1000\" height = \"100\"/>\n",
    "\n",
    "\n",
    "### **1.5 Importing packages**\n",
    "\n",
    "\n",
    "Launch Python 3 via Jupyter Notebook (See Section 2.1 and 2.2). In the Notebook, type import pandas and press Shift+return. Note that when you press (shift+return), square bracket changes to an asterix (implying that code is running). Once code has run, asterix changes to number (implying that code has been executed). You can import various packages that you intend to use. For example, in this example code, two packages,pandas and numpy are imported. "
   ]
  },
  {
   "cell_type": "code",
   "execution_count": 1,
   "metadata": {},
   "outputs": [],
   "source": [
    "import pandas\n",
    "import numpy"
   ]
  },
  {
   "cell_type": "markdown",
   "metadata": {},
   "source": [
    "### **1.6 Troubleshooting errors while importing packages**\n",
    " When you try to import a package that is either not installed or is misspelled, python returns an error. For example, let us try to import a package named xarray and see what prompt we get:\n"
   ]
  },
  {
   "cell_type": "markdown",
   "metadata": {},
   "source": [
    "<img title = \"hello\" src=\"xarray_error.png\" width=\"1000\" height = \"200\"/>"
   ]
  },
  {
   "cell_type": "markdown",
   "metadata": {},
   "source": [
    "***ModuleNotFoundError: No module named 'xarray'*** precisely tell us that xarray package is missing and we get ModuleNotFoundError. To undo this, we go to Terminal (or Anaconda Prompt in Windows), launch a new instance ((⌘)+N), and type ***conda install xarray***. Follow the prompts and intallation should be complete.\n",
    "\n",
    "<img src=\"xarray.png\" alt=\"drawing\" width=\"1000\" height = \"100\"/>\n",
    "\n",
    "Try import xarray again, and code should run without any error!"
   ]
  },
  {
   "cell_type": "code",
   "execution_count": 2,
   "metadata": {},
   "outputs": [
    {
     "name": "stdout",
     "output_type": "stream",
     "text": [
      "0.11.0\n"
     ]
    }
   ],
   "source": [
    "import xarray\n",
    "print(xarray.__version__) #Printing version of xarray"
   ]
  },
  {
   "cell_type": "markdown",
   "metadata": {},
   "source": [
    "### **1.7 Conclusions and next steps**\n",
    "\n",
    "Now that we have installed Python and learnt how to install packages, we are all set to dive deeper into data structures in python. We will discuss variables,list,dictionaries, tuples, sets, and strings in next chapter with the help of examples. If you do not understand certain jargons such as Pandas, numpy, and xarray, do not worry at this point as we will cover these extensively as we move forward!\n"
   ]
  }
 ],
 "metadata": {
  "kernelspec": {
   "display_name": "tutorials",
   "language": "python",
   "name": "tutorials"
  },
  "language_info": {
   "codemirror_mode": {
    "name": "ipython",
    "version": 3
   },
   "file_extension": ".py",
   "mimetype": "text/x-python",
   "name": "python",
   "nbconvert_exporter": "python",
   "pygments_lexer": "ipython3",
   "version": "3.7.0"
  }
 },
 "nbformat": 4,
 "nbformat_minor": 2
}
